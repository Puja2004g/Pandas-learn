{
  "cells": [
    {
      "cell_type": "markdown",
      "metadata": {
        "id": "Ci2erxxm5uJT"
      },
      "source": [
        "Conditional Statement"
      ]
    },
    {
      "cell_type": "code",
      "execution_count": 3,
      "metadata": {
        "colab": {
          "base_uri": "https://localhost:8080/"
        },
        "id": "4GOhCjw95xQ0",
        "outputId": "fea298ec-5f0d-4e9d-9cfa-db1d3cc9a62a"
      },
      "outputs": [
        {
          "name": "stdout",
          "output_type": "stream",
          "text": [
            "Enter a number:6\n",
            "6\n",
            "<class 'int'>\n"
          ]
        }
      ],
      "source": [
        "a = int(input(\"Enter a number:\"))\n",
        "print(a)\n",
        "print(type(a))"
      ]
    },
    {
      "cell_type": "code",
      "execution_count": 5,
      "metadata": {
        "colab": {
          "base_uri": "https://localhost:8080/"
        },
        "id": "uCqNCEfZ6TQ9",
        "outputId": "c9c0851a-7dd4-4186-d1d0-d90fa59f77dc"
      },
      "outputs": [
        {
          "name": "stdout",
          "output_type": "stream",
          "text": [
            "Enter a number:-4\n",
            "Negative Number\n"
          ]
        }
      ],
      "source": [
        "a = int(input(\"Enter a number:\"))\n",
        "if a>=0:\n",
        "  print(\"Positive Number\")\n",
        "else:\n",
        "  print(\"Negative Number\")"
      ]
    },
    {
      "cell_type": "code",
      "execution_count": 6,
      "metadata": {
        "colab": {
          "base_uri": "https://localhost:8080/"
        },
        "id": "3IpbwWQX7g-7",
        "outputId": "71288680-a14f-4231-e682-7ac48d8fa0e3"
      },
      "outputs": [
        {
          "name": "stdout",
          "output_type": "stream",
          "text": [
            "Enter a number:0\n",
            "It's a zero\n"
          ]
        }
      ],
      "source": [
        "a = int(input(\"Enter a number:\"))\n",
        "if a>0:\n",
        "  print(\"Positive Number\")\n",
        "elif a==0:\n",
        "  print(\"It's a zero\")\n",
        "else:\n",
        "  print(\"Negative Number\")"
      ]
    },
    {
      "cell_type": "code",
      "execution_count": 7,
      "metadata": {
        "colab": {
          "base_uri": "https://localhost:8080/"
        },
        "id": "MK0MCjGS8AKy",
        "outputId": "aa086fb3-871b-45a0-cf54-89f8ed457fed"
      },
      "outputs": [
        {
          "name": "stdout",
          "output_type": "stream",
          "text": [
            "Enter a number:-8\n",
            "Negative Number\n"
          ]
        }
      ],
      "source": [
        "a = int(input(\"Enter a number:\"))\n",
        "if a>0:\n",
        "  print(\"Positive Number\")\n",
        "elif a==0:\n",
        "  print(\"It's a zero\")\n",
        "elif a<0:\n",
        "  print(\"Negative Number\")"
      ]
    },
    {
      "cell_type": "markdown",
      "metadata": {
        "id": "WWUwCWUR9BKz"
      },
      "source": [
        "Loops - For | While"
      ]
    },
    {
      "cell_type": "code",
      "execution_count": 8,
      "metadata": {
        "id": "9wWjnO4U8E8D"
      },
      "outputs": [],
      "source": [
        "## While Loop"
      ]
    },
    {
      "cell_type": "code",
      "execution_count": null,
      "metadata": {
        "id": "JoskynJS-PmB"
      },
      "outputs": [],
      "source": [
        "i = 0\n",
        "while i<10:\n",
        "  print(\"The value of i is \"+str(i))\n",
        "  i = i+1"
      ]
    },
    {
      "cell_type": "code",
      "execution_count": 14,
      "metadata": {
        "colab": {
          "base_uri": "https://localhost:8080/",
          "height": 35
        },
        "id": "A1o9xIys_bb-",
        "outputId": "76111982-09f1-436b-becf-3916f9a2c1ec"
      },
      "outputs": [
        {
          "data": {
            "application/vnd.google.colaboratory.intrinsic+json": {
              "type": "string"
            },
            "text/plain": [
              "'a1'"
            ]
          },
          "execution_count": 14,
          "metadata": {},
          "output_type": "execute_result"
        }
      ],
      "source": [
        "\"a\"+str(1)"
      ]
    },
    {
      "cell_type": "code",
      "execution_count": null,
      "metadata": {
        "id": "dmLhl2DB-4aL"
      },
      "outputs": [],
      "source": [
        "while True:\n",
        "  print(\"Infinite Loop\")"
      ]
    },
    {
      "cell_type": "code",
      "execution_count": null,
      "metadata": {
        "id": "q8yOMI3c_MWh"
      },
      "outputs": [],
      "source": [
        "i = 0\n",
        "while i<10:\n",
        "  print(\"The value of i is\",i)\n",
        "  i = i+1"
      ]
    },
    {
      "cell_type": "code",
      "execution_count": 16,
      "metadata": {
        "id": "4-wPhten_oUd"
      },
      "outputs": [],
      "source": [
        "### For loop"
      ]
    },
    {
      "cell_type": "code",
      "execution_count": 17,
      "metadata": {
        "colab": {
          "base_uri": "https://localhost:8080/"
        },
        "id": "lPyQgajNAKAa",
        "outputId": "f480b23f-d3cc-43ee-ed6c-325b4c5839fc"
      },
      "outputs": [
        {
          "name": "stdout",
          "output_type": "stream",
          "text": [
            "The value of i is 0\n",
            "The value of i is 1\n",
            "The value of i is 2\n",
            "The value of i is 3\n",
            "The value of i is 4\n",
            "The value of i is 5\n",
            "The value of i is 6\n",
            "The value of i is 7\n",
            "The value of i is 8\n",
            "The value of i is 9\n"
          ]
        }
      ],
      "source": [
        "for i in range(10):\n",
        "  print(\"The value of i is \"+str(i))"
      ]
    },
    {
      "cell_type": "code",
      "execution_count": 18,
      "metadata": {
        "colab": {
          "base_uri": "https://localhost:8080/"
        },
        "id": "XkDOWmClAh3K",
        "outputId": "f57f0827-b50d-4140-9700-41db187ec784"
      },
      "outputs": [
        {
          "name": "stdout",
          "output_type": "stream",
          "text": [
            "The value of i is 0\n",
            "The value of i is 1\n",
            "The value of i is 2\n",
            "The value of i is 3\n",
            "The value of i is 4\n",
            "The value of i is 5\n",
            "The value of i is 6\n",
            "The value of i is 7\n",
            "The value of i is 8\n",
            "The value of i is 9\n",
            "The value of i is 10\n",
            "The value of i is 11\n",
            "The value of i is 12\n",
            "The value of i is 13\n",
            "The value of i is 14\n",
            "The value of i is 15\n",
            "The value of i is 16\n",
            "The value of i is 17\n",
            "The value of i is 18\n",
            "The value of i is 19\n"
          ]
        }
      ],
      "source": [
        "for i in range(20):\n",
        "  print(\"The value of i is \"+str(i))"
      ]
    },
    {
      "cell_type": "code",
      "execution_count": 19,
      "metadata": {
        "colab": {
          "base_uri": "https://localhost:8080/"
        },
        "id": "G1zuPCIlAnZJ",
        "outputId": "423df570-837a-4f4d-d150-b65f16a4928f"
      },
      "outputs": [
        {
          "name": "stdout",
          "output_type": "stream",
          "text": [
            "The value of i is 10\n",
            "The value of i is 11\n",
            "The value of i is 12\n",
            "The value of i is 13\n",
            "The value of i is 14\n",
            "The value of i is 15\n",
            "The value of i is 16\n",
            "The value of i is 17\n",
            "The value of i is 18\n",
            "The value of i is 19\n"
          ]
        }
      ],
      "source": [
        "for i in range(10,20):\n",
        "  print(\"The value of i is \"+str(i))"
      ]
    },
    {
      "cell_type": "code",
      "execution_count": 20,
      "metadata": {
        "colab": {
          "base_uri": "https://localhost:8080/"
        },
        "id": "dTk0slAGAvAi",
        "outputId": "3ce7f546-827f-4508-d4eb-8c452171b5c5"
      },
      "outputs": [
        {
          "name": "stdout",
          "output_type": "stream",
          "text": [
            "The value of i is 10\n",
            "The value of i is 13\n",
            "The value of i is 16\n",
            "The value of i is 19\n",
            "The value of i is 22\n",
            "The value of i is 25\n",
            "The value of i is 28\n"
          ]
        }
      ],
      "source": [
        "for i in range(10,30,3):\n",
        "  print(\"The value of i is \"+str(i))"
      ]
    },
    {
      "cell_type": "code",
      "execution_count": 21,
      "metadata": {
        "id": "lzo-csgKA3xZ"
      },
      "outputs": [],
      "source": [
        "### Break and continue statement"
      ]
    },
    {
      "cell_type": "code",
      "execution_count": 23,
      "metadata": {
        "colab": {
          "base_uri": "https://localhost:8080/"
        },
        "id": "RS4CY2C-Bt2C",
        "outputId": "a554ca66-e640-476b-b820-1d43d5e2877b"
      },
      "outputs": [
        {
          "name": "stdout",
          "output_type": "stream",
          "text": [
            "Enter a number:3\n",
            "Enter a number:4\n",
            "Enter a number:2\n",
            "Enter a number:5\n",
            "Enter a number:3\n",
            "Enter a number:0\n",
            "[3, 4, 2, 5, 3]\n"
          ]
        }
      ],
      "source": [
        "nos = []\n",
        "while True:\n",
        "  a = int(input(\"Enter a number:\"))\n",
        "  if a == 0:\n",
        "    break\n",
        "  nos.append(a)\n",
        "\n",
        "print(nos)"
      ]
    },
    {
      "cell_type": "code",
      "execution_count": 24,
      "metadata": {
        "colab": {
          "base_uri": "https://localhost:8080/"
        },
        "id": "Hhjof3pbCjoa",
        "outputId": "cf3a0aa8-0c47-4611-a18d-23daed63c69d"
      },
      "outputs": [
        {
          "name": "stdout",
          "output_type": "stream",
          "text": [
            "Enter a number:1\n",
            "Enter a number:2\n",
            "Enter a number:2\n",
            "Enter a number:3\n",
            "Enter a number:3\n",
            "Enter a number:0\n",
            "[1, 2, 3]\n"
          ]
        }
      ],
      "source": [
        "nos = []\n",
        "while True:\n",
        "  a = int(input(\"Enter a number:\"))\n",
        "  if a == 0:\n",
        "    break\n",
        "  if a in nos:\n",
        "    continue\n",
        "  nos.append(a)\n",
        "\n",
        "print(nos)"
      ]
    },
    {
      "cell_type": "markdown",
      "metadata": {
        "id": "twUhS0glERue"
      },
      "source": [
        "Functions\n",
        "1. Function without argument or attributes\n",
        "2. Function with argument or attributes\n",
        "3. Function with default argument or attributes\n",
        "4. Function with return statement"
      ]
    },
    {
      "cell_type": "code",
      "execution_count": 28,
      "metadata": {
        "colab": {
          "base_uri": "https://localhost:8080/"
        },
        "id": "fNN-0znxDKwX",
        "outputId": "cb06e674-89e6-425f-b4e4-07daf43d2fbd"
      },
      "outputs": [
        {
          "name": "stdout",
          "output_type": "stream",
          "text": [
            "\n"
          ]
        }
      ],
      "source": [
        "print()"
      ]
    },
    {
      "cell_type": "code",
      "execution_count": 26,
      "metadata": {
        "colab": {
          "base_uri": "https://localhost:8080/",
          "height": 176
        },
        "id": "wDCRZC4MFEHZ",
        "outputId": "5c06e4aa-24b0-4cb5-820a-a17b10aab8c4"
      },
      "outputs": [
        {
          "ename": "TypeError",
          "evalue": "ignored",
          "output_type": "error",
          "traceback": [
            "\u001b[0;31m---------------------------------------------------------------------------\u001b[0m",
            "\u001b[0;31mTypeError\u001b[0m                                 Traceback (most recent call last)",
            "\u001b[0;32m<ipython-input-26-adf3103c7c3e>\u001b[0m in \u001b[0;36m<cell line: 1>\u001b[0;34m()\u001b[0m\n\u001b[0;32m----> 1\u001b[0;31m \u001b[0mlen\u001b[0m\u001b[0;34m(\u001b[0m\u001b[0;34m)\u001b[0m\u001b[0;34m\u001b[0m\u001b[0;34m\u001b[0m\u001b[0m\n\u001b[0m",
            "\u001b[0;31mTypeError\u001b[0m: len() takes exactly one argument (0 given)"
          ]
        }
      ],
      "source": [
        "len()"
      ]
    },
    {
      "cell_type": "code",
      "execution_count": 29,
      "metadata": {
        "colab": {
          "base_uri": "https://localhost:8080/"
        },
        "id": "wSkuIoWXFNi_",
        "outputId": "796e6209-f3aa-4a80-a455-2f88823b6db9"
      },
      "outputs": [
        {
          "name": "stdout",
          "output_type": "stream",
          "text": [
            "Umang\n"
          ]
        }
      ],
      "source": [
        "a = print(\"Umang\")"
      ]
    },
    {
      "cell_type": "code",
      "execution_count": 30,
      "metadata": {
        "colab": {
          "base_uri": "https://localhost:8080/"
        },
        "id": "4yYj9MOOFi-v",
        "outputId": "7f122fdf-2a83-4038-a102-27cbfcdc7074"
      },
      "outputs": [
        {
          "name": "stdout",
          "output_type": "stream",
          "text": [
            "None\n"
          ]
        }
      ],
      "source": [
        "print(a)"
      ]
    },
    {
      "cell_type": "code",
      "execution_count": 31,
      "metadata": {
        "id": "go-v2CefFjre"
      },
      "outputs": [],
      "source": [
        "a = len(\"Umang\")"
      ]
    },
    {
      "cell_type": "code",
      "execution_count": 32,
      "metadata": {
        "colab": {
          "base_uri": "https://localhost:8080/"
        },
        "id": "FHdvzY-uFqvw",
        "outputId": "e9d8300b-26c7-4eda-fd2e-707b57228976"
      },
      "outputs": [
        {
          "name": "stdout",
          "output_type": "stream",
          "text": [
            "5\n"
          ]
        }
      ],
      "source": [
        "print(a)"
      ]
    },
    {
      "cell_type": "code",
      "execution_count": 33,
      "metadata": {
        "id": "3mKqywlrFrdm"
      },
      "outputs": [],
      "source": [
        "## Function without argument or attributes"
      ]
    },
    {
      "cell_type": "code",
      "execution_count": 34,
      "metadata": {
        "id": "mVx2Yw6gJzsZ"
      },
      "outputs": [],
      "source": [
        "def greet():\n",
        "  print(\"Hello, how are you?\")"
      ]
    },
    {
      "cell_type": "code",
      "execution_count": 35,
      "metadata": {
        "colab": {
          "base_uri": "https://localhost:8080/"
        },
        "id": "7VNrkN7LKCat",
        "outputId": "d341329b-daa9-4b38-cf42-9f5839a40169"
      },
      "outputs": [
        {
          "name": "stdout",
          "output_type": "stream",
          "text": [
            "Hello, how are you?\n",
            "Hello, how are you?\n",
            "Hello, how are you?\n"
          ]
        }
      ],
      "source": [
        "greet()\n",
        "greet()\n",
        "greet()"
      ]
    },
    {
      "cell_type": "code",
      "execution_count": 39,
      "metadata": {
        "id": "6Q4JLTGPKgoT"
      },
      "outputs": [],
      "source": [
        "## Function with argument or attributes"
      ]
    },
    {
      "cell_type": "code",
      "execution_count": 36,
      "metadata": {
        "id": "DNV5VDDjKFWc"
      },
      "outputs": [],
      "source": [
        "def greet_with_name(name):\n",
        "  print(\"Hello, how are you \"+name+\"?\")"
      ]
    },
    {
      "cell_type": "code",
      "execution_count": 38,
      "metadata": {
        "colab": {
          "base_uri": "https://localhost:8080/"
        },
        "id": "mHmpOp_4KaAD",
        "outputId": "4787600e-9a71-48fc-878b-a6f753f489bc"
      },
      "outputs": [
        {
          "name": "stdout",
          "output_type": "stream",
          "text": [
            "Hello, how are you Umang?\n"
          ]
        }
      ],
      "source": [
        "greet_with_name(\"Umang\")"
      ]
    },
    {
      "cell_type": "code",
      "execution_count": 40,
      "metadata": {
        "id": "I-xJdU3YKb_6"
      },
      "outputs": [],
      "source": [
        "## Function with default argument or attributes"
      ]
    },
    {
      "cell_type": "code",
      "execution_count": 41,
      "metadata": {
        "id": "fg6C7xelKnE4"
      },
      "outputs": [],
      "source": [
        "def greet_with_name_default(name=\"Unknown\"):\n",
        "  print(\"Hello, how are you \"+name+\"?\")"
      ]
    },
    {
      "cell_type": "code",
      "execution_count": 42,
      "metadata": {
        "colab": {
          "base_uri": "https://localhost:8080/"
        },
        "id": "4oAphqA4Ksm3",
        "outputId": "ea3319b9-209a-4aea-e8b7-a110158e5f3d"
      },
      "outputs": [
        {
          "name": "stdout",
          "output_type": "stream",
          "text": [
            "Hello, how are you Unknown?\n"
          ]
        }
      ],
      "source": [
        "greet_with_name_default()"
      ]
    },
    {
      "cell_type": "code",
      "execution_count": 43,
      "metadata": {
        "colab": {
          "base_uri": "https://localhost:8080/"
        },
        "id": "Z0UWDrjtKuX4",
        "outputId": "c76a714f-bff1-48ab-daa8-195d342abdde"
      },
      "outputs": [
        {
          "name": "stdout",
          "output_type": "stream",
          "text": [
            "Hello, how are you Umang?\n"
          ]
        }
      ],
      "source": [
        "greet_with_name_default(\"Umang\")"
      ]
    },
    {
      "cell_type": "code",
      "execution_count": 44,
      "metadata": {
        "id": "jUGLLR-KKwYS"
      },
      "outputs": [],
      "source": [
        "# Function with return statement"
      ]
    },
    {
      "cell_type": "code",
      "execution_count": 48,
      "metadata": {
        "id": "4nWiEozfLamk"
      },
      "outputs": [],
      "source": [
        "def add_two_num(x,y):\n",
        "  return(x+y)"
      ]
    },
    {
      "cell_type": "code",
      "execution_count": 49,
      "metadata": {
        "id": "BEtjVqhZLf09"
      },
      "outputs": [],
      "source": [
        "result = add_two_num(10,20)"
      ]
    },
    {
      "cell_type": "code",
      "execution_count": 50,
      "metadata": {
        "colab": {
          "base_uri": "https://localhost:8080/"
        },
        "id": "dgS7ElELLjXA",
        "outputId": "d4b777b3-e400-4850-9ec1-914624d33f18"
      },
      "outputs": [
        {
          "name": "stdout",
          "output_type": "stream",
          "text": [
            "30\n"
          ]
        }
      ],
      "source": [
        "print(result)"
      ]
    },
    {
      "cell_type": "code",
      "execution_count": 51,
      "metadata": {
        "id": "6oWnzSbdLkUq"
      },
      "outputs": [],
      "source": [
        "## File Handling"
      ]
    },
    {
      "cell_type": "code",
      "execution_count": 52,
      "metadata": {
        "id": "wej5HgbDL7Z2"
      },
      "outputs": [],
      "source": [
        "### Write / Create a file"
      ]
    },
    {
      "cell_type": "code",
      "execution_count": 53,
      "metadata": {
        "id": "bd5ClHXrMaXh"
      },
      "outputs": [],
      "source": [
        "file = open(\"demo.txt\",\"w\")\n",
        "file.write(\"This is a test file.\")\n",
        "file.close()"
      ]
    },
    {
      "cell_type": "code",
      "execution_count": 54,
      "metadata": {
        "id": "q2vHbatoM0Uz"
      },
      "outputs": [],
      "source": [
        "file = open(\"demo.txt\",\"w\")\n",
        "file.write(\"My name is Umang.\")\n",
        "file.close()"
      ]
    },
    {
      "cell_type": "code",
      "execution_count": null,
      "metadata": {
        "id": "ErYH443oNAAK"
      },
      "outputs": [],
      "source": [
        "### Append a file"
      ]
    },
    {
      "cell_type": "code",
      "execution_count": 55,
      "metadata": {
        "id": "aJ8oYGZxNipA"
      },
      "outputs": [],
      "source": [
        "file = open(\"demo.txt\",\"a\")\n",
        "file.write(\"I love coding.\")\n",
        "file.close()"
      ]
    },
    {
      "cell_type": "code",
      "execution_count": 56,
      "metadata": {
        "id": "lJDD_dxuNmlB"
      },
      "outputs": [],
      "source": [
        "file = open(\"demo.txt\",\"a\")\n",
        "file.write(\"\\n\")\n",
        "file.write(\"I love games.\")\n",
        "file.close()"
      ]
    },
    {
      "cell_type": "code",
      "execution_count": 59,
      "metadata": {
        "id": "O7yU-_0iOXay"
      },
      "outputs": [],
      "source": [
        "file = open(\"demo.txt\",\"a\")\n",
        "file.write(\"\\n\")\n",
        "file.write(\"I love movies.\")\n",
        "file.close()"
      ]
    },
    {
      "cell_type": "code",
      "execution_count": 60,
      "metadata": {
        "id": "3HrXD_ydNufn"
      },
      "outputs": [],
      "source": [
        "### Read a file"
      ]
    },
    {
      "cell_type": "code",
      "execution_count": 61,
      "metadata": {
        "colab": {
          "base_uri": "https://localhost:8080/"
        },
        "id": "AIE7EIgoOGY2",
        "outputId": "4f24e1d0-ba6b-4b55-f072-658920027b76"
      },
      "outputs": [
        {
          "name": "stdout",
          "output_type": "stream",
          "text": [
            "My name is Umang.I love coding.\n",
            "I love games.\n",
            "I love movies.\n"
          ]
        }
      ],
      "source": [
        "file = open(\"demo.txt\",\"r\")\n",
        "data = file.read()\n",
        "file.close()\n",
        "print(data)"
      ]
    },
    {
      "cell_type": "code",
      "execution_count": 62,
      "metadata": {
        "colab": {
          "base_uri": "https://localhost:8080/"
        },
        "id": "IRtkgJp_OUdk",
        "outputId": "b843548f-9d76-4c3e-a2ba-9cb79ff082a8"
      },
      "outputs": [
        {
          "name": "stdout",
          "output_type": "stream",
          "text": [
            "My name is\n"
          ]
        }
      ],
      "source": [
        "file = open(\"demo.txt\",\"r\")\n",
        "data = file.read(10)  ## 10 chars\n",
        "file.close()\n",
        "print(data)"
      ]
    },
    {
      "cell_type": "code",
      "execution_count": 63,
      "metadata": {
        "colab": {
          "base_uri": "https://localhost:8080/"
        },
        "id": "h7TkpafSOePg",
        "outputId": "6bcd4303-6bfd-48a3-aec8-71c1d475631b"
      },
      "outputs": [
        {
          "name": "stdout",
          "output_type": "stream",
          "text": [
            "My name is Umang.I love coding.\n",
            "\n"
          ]
        }
      ],
      "source": [
        "file = open(\"demo.txt\",\"r\")\n",
        "data = file.readline()  ## firstline\n",
        "file.close()\n",
        "print(data)"
      ]
    },
    {
      "cell_type": "code",
      "execution_count": 64,
      "metadata": {
        "colab": {
          "base_uri": "https://localhost:8080/"
        },
        "id": "w7MvNJ51OpcC",
        "outputId": "c36ba821-23de-4c1b-ff06-c43035214a19"
      },
      "outputs": [
        {
          "name": "stdout",
          "output_type": "stream",
          "text": [
            "My na\n"
          ]
        }
      ],
      "source": [
        "file = open(\"demo.txt\",\"r\")\n",
        "data = file.readline(5)  ## firstline (5 chars)\n",
        "file.close()\n",
        "print(data)"
      ]
    },
    {
      "cell_type": "code",
      "execution_count": 65,
      "metadata": {
        "colab": {
          "base_uri": "https://localhost:8080/"
        },
        "id": "Bg-cttkOOxv-",
        "outputId": "46f7b472-e2af-4b4a-d8a2-aa4bfd9c61fe"
      },
      "outputs": [
        {
          "name": "stdout",
          "output_type": "stream",
          "text": [
            "['My name is Umang.I love coding.\\n', 'I love games.\\n', 'I love movies.']\n"
          ]
        }
      ],
      "source": [
        "file = open(\"demo.txt\",\"r\")\n",
        "data = file.readlines()\n",
        "file.close()\n",
        "print(data)"
      ]
    },
    {
      "cell_type": "code",
      "execution_count": 66,
      "metadata": {
        "id": "AF8p118pO38u"
      },
      "outputs": [],
      "source": [
        "### read second line"
      ]
    },
    {
      "cell_type": "code",
      "execution_count": 67,
      "metadata": {
        "colab": {
          "base_uri": "https://localhost:8080/"
        },
        "id": "D8ncEzoxPDYA",
        "outputId": "1b743c16-d168-4cc8-b2f7-746f672f76ab"
      },
      "outputs": [
        {
          "name": "stdout",
          "output_type": "stream",
          "text": [
            "I love games.\n",
            "\n"
          ]
        }
      ],
      "source": [
        "file = open(\"demo.txt\",\"r\")\n",
        "data = file.readlines()\n",
        "file.close()\n",
        "print(data[1])"
      ]
    },
    {
      "cell_type": "code",
      "execution_count": null,
      "metadata": {
        "id": "3MIFU-jrPIfd"
      },
      "outputs": [],
      "source": []
    }
  ],
  "metadata": {
    "colab": {
      "provenance": []
    },
    "kernelspec": {
      "display_name": "Python 3",
      "name": "python3"
    },
    "language_info": {
      "name": "python"
    }
  },
  "nbformat": 4,
  "nbformat_minor": 0
}
