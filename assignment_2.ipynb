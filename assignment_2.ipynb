{
 "cells": [
  {
   "cell_type": "code",
   "execution_count": 2,
   "metadata": {},
   "outputs": [
    {
     "name": "stdout",
     "output_type": "stream",
     "text": [
      "Lowercase =  4 Uppercase =  2\n"
     ]
    }
   ],
   "source": [
    "# write a python program to count the number of lowercase and uppercase letters in a string\n",
    "\n",
    "a = \"StrinG\"\n",
    "count_lower = 0\n",
    "count_upper = 0\n",
    "\n",
    "for char in a:\n",
    "    if char.lower() == char:\n",
    "        count_lower += 1\n",
    "    elif char.upper() == char:\n",
    "        count_upper +=1\n",
    "\n",
    "print(\"Lowercase = \",count_lower, \"Uppercase = \" ,count_upper)"
   ]
  },
  {
   "cell_type": "code",
   "execution_count": 3,
   "metadata": {},
   "outputs": [
    {
     "name": "stdout",
     "output_type": "stream",
     "text": [
      "Digits:  1\n",
      "Characters:  5\n"
     ]
    }
   ],
   "source": [
    "# write a program to count the number of digits and characters in a string\n",
    "\n",
    "a = \"stri2g\"\n",
    "digits = \"0123456789\"\n",
    "count_number = 0\n",
    "count_char = 0\n",
    "\n",
    "for char in a:\n",
    "    if char in digits:\n",
    "        count_number += 1\n",
    "    else:\n",
    "        count_char += 1\n",
    "\n",
    "print(\"Digits: \", count_number)\n",
    "print(\"Characters: \", count_char)\n",
    "\n",
    "            "
   ]
  },
  {
   "cell_type": "code",
   "execution_count": 4,
   "metadata": {},
   "outputs": [
    {
     "name": "stdout",
     "output_type": "stream",
     "text": [
      "6\n"
     ]
    }
   ],
   "source": [
    "# write a program to calculate lenght of a string without using library function\n",
    "\n",
    "a = \"Python\"\n",
    "length = 0\n",
    "\n",
    "for char in a:\n",
    "    length += 1\n",
    "print(length)"
   ]
  },
  {
   "cell_type": "code",
   "execution_count": 5,
   "metadata": {},
   "outputs": [
    {
     "name": "stdout",
     "output_type": "stream",
     "text": [
      "Python\n"
     ]
    }
   ],
   "source": [
    "# write a program to take two strings and display the smallest string without uisng library function\n",
    "\n",
    "a = \"Python\"\n",
    "b = \"Anaconda\"\n",
    "\n",
    "length_a = 0\n",
    "length_b = 0\n",
    "\n",
    "for char in a:\n",
    "    length_a += 1\n",
    "\n",
    "for char in b:\n",
    "    length_b += 1\n",
    "\n",
    "if length_a < length_b:\n",
    "    print(a)\n",
    "else:\n",
    "    print(b)"
   ]
  },
  {
   "cell_type": "code",
   "execution_count": 6,
   "metadata": {},
   "outputs": [
    {
     "name": "stdout",
     "output_type": "stream",
     "text": [
      "{'a': 3, 'n': 2, 'c': 1, 'o': 1, 'd': 1}\n"
     ]
    }
   ],
   "source": [
    "# write a program to cound the occurrences of each word in a string sentence\n",
    "a = \"anaconda\"\n",
    "dict_occur = {}\n",
    "\n",
    "for char in a:\n",
    "    if char in dict_occur:\n",
    "        dict_occur[char] += 1\n",
    "    else:\n",
    "        dict_occur[char] = 1\n",
    "\n",
    "print(dict_occur)\n"
   ]
  },
  {
   "cell_type": "code",
   "execution_count": 7,
   "metadata": {},
   "outputs": [
    {
     "name": "stdout",
     "output_type": "stream",
     "text": [
      "gnirts\n"
     ]
    }
   ],
   "source": [
    "# write a python program  to reverse a string\n",
    "a = \"string\"\n",
    "\n",
    "print(a[:: -1])"
   ]
  },
  {
   "cell_type": "code",
   "execution_count": 14,
   "metadata": {},
   "outputs": [
    {
     "name": "stdout",
     "output_type": "stream",
     "text": [
      "AAAAA\n",
      "BBBBB\n",
      "CCCCC\n",
      "DDDDD\n",
      "EEEEE\n"
     ]
    }
   ],
   "source": [
    "# print patterns\n",
    "#pattern 1\n",
    "row = 5\n",
    "col = 5\n",
    "arr = [\"A\", \"B\", \"C\", \"D\", \"E\"]\n",
    "for i in range (0,row):\n",
    "    for j in range (0, col):\n",
    "        print(arr[i] , end=\"\")\n",
    "    print()"
   ]
  },
  {
   "cell_type": "code",
   "execution_count": 15,
   "metadata": {},
   "outputs": [
    {
     "name": "stdout",
     "output_type": "stream",
     "text": [
      "A\n",
      "AB\n",
      "ABC\n",
      "ABCD\n",
      "ABCDE\n"
     ]
    }
   ],
   "source": [
    "#pattern 2\n",
    "row = 5\n",
    "arr = [\"A\", \"B\", \"C\", \"D\", \"E\"]\n",
    "for i in range (0,row):\n",
    "    for j in range (0, i+1):\n",
    "        print(arr[j] , end=\"\")\n",
    "    print()"
   ]
  },
  {
   "cell_type": "code",
   "execution_count": 17,
   "metadata": {},
   "outputs": [
    {
     "name": "stdout",
     "output_type": "stream",
     "text": [
      "ABCDE\n",
      "BCDE\n",
      "CDE\n",
      "DE\n",
      "E\n"
     ]
    }
   ],
   "source": [
    "row = 5\n",
    "arr = [\"A\", \"B\", \"C\", \"D\", \"E\"]\n",
    "for i in range (0,row):\n",
    "    for j in range (i, row):\n",
    "        print(arr[j] , end=\"\")\n",
    "    print()"
   ]
  },
  {
   "cell_type": "code",
   "execution_count": 16,
   "metadata": {},
   "outputs": [
    {
     "name": "stdout",
     "output_type": "stream",
     "text": [
      "EDCBA\n",
      "DCBA\n",
      "CBA\n",
      "BA\n",
      "A\n"
     ]
    }
   ],
   "source": [
    "#pattern 3\n",
    "row = 5\n",
    "arr = [\"E\", \"D\", \"C\", \"B\", \"A\"]\n",
    "\n",
    "for i in range(0, row):\n",
    "    for j in range(i, row):\n",
    "        print(arr[j], end=\"\")\n",
    "    print()\n"
   ]
  },
  {
   "cell_type": "code",
   "execution_count": 10,
   "metadata": {},
   "outputs": [
    {
     "name": "stdout",
     "output_type": "stream",
     "text": [
      "     P\n",
      "    PR\n",
      "   PRA\n",
      "  PRAB\n",
      " PRABH\n",
      "PRABHU\n"
     ]
    }
   ],
   "source": [
    "#pattern 4\n",
    "row = 6\n",
    "arr = [\"P\", \"R\", \"A\", \"B\", \"H\", \"U\"]\n",
    "\n",
    "for i in range(row):\n",
    "    for space in range(row - i - 1):\n",
    "        print(\" \", end=\"\")\n",
    "    for j in range(i + 1):\n",
    "        print(arr[j], end=\"\")\n",
    "    print()"
   ]
  },
  {
   "cell_type": "code",
   "execution_count": 9,
   "metadata": {},
   "outputs": [
    {
     "name": "stdout",
     "output_type": "stream",
     "text": [
      "12345\n",
      " 1234\n",
      "  123\n",
      "   12\n",
      "    1\n"
     ]
    }
   ],
   "source": [
    "#pattern 5\n",
    "for i in range(5, 0, -1):\n",
    "    for j in range(5 - i):\n",
    "        print(\" \", end=\"\")\n",
    "    \n",
    "    for k in range(1, i + 1):\n",
    "        print(k, end=\"\")\n",
    "    print()\n"
   ]
  },
  {
   "cell_type": "code",
   "execution_count": 10,
   "metadata": {},
   "outputs": [
    {
     "name": "stdout",
     "output_type": "stream",
     "text": [
      "    A\n",
      "   ABC\n",
      "  ABCDE\n",
      " ABCDEFG\n",
      "ABCDEFGHI\n"
     ]
    }
   ],
   "source": [
    "# Pattern 6\n",
    "n = 5\n",
    "for i in range(1, n+1):\n",
    "    for _ in range(n-i):\n",
    "        print(\" \", end=\"\")\n",
    "    for j in range(1, 2*i):\n",
    "        print(chr(65+j-1), end=\"\")\n",
    "    print()"
   ]
  },
  {
   "cell_type": "code",
   "execution_count": 11,
   "metadata": {},
   "outputs": [
    {
     "name": "stdout",
     "output_type": "stream",
     "text": [
      "    1\n",
      "   321\n",
      "  54321\n",
      " 7654321\n",
      "987654321\n"
     ]
    }
   ],
   "source": [
    "# Pattern 7\n",
    "n = 5\n",
    "for i in range(1, n+1):\n",
    "    for _ in range(n-i):\n",
    "        print(\" \", end=\"\")\n",
    "    for j in range(2*i-1, 0, -1):\n",
    "        print((j), end=\"\")\n",
    "    print()"
   ]
  },
  {
   "cell_type": "code",
   "execution_count": 12,
   "metadata": {},
   "outputs": [
    {
     "name": "stdout",
     "output_type": "stream",
     "text": [
      "**********\n",
      "****  ****\n",
      "***    ***\n",
      "**      **\n",
      "*        *\n"
     ]
    }
   ],
   "source": [
    "# Pattern 8\n",
    "for i in range(5, 0, -1):\n",
    "    for j in range(i):\n",
    "        print(\"*\", end=\"\")\n",
    "    for _ in range(2 * (5 - i)):\n",
    "        print(\" \", end=\"\")\n",
    "    for j in range(i):\n",
    "        print(\"*\", end=\"\")\n",
    "    print()"
   ]
  },
  {
   "cell_type": "code",
   "execution_count": 13,
   "metadata": {},
   "outputs": [
    {
     "name": "stdout",
     "output_type": "stream",
     "text": [
      "A B C D E \n",
      " A B C D \n",
      "  A B C \n",
      "   A B \n",
      "    A \n"
     ]
    }
   ],
   "source": [
    "# Pattern 9\n",
    "a = \"ABCDE\"\n",
    "m = 5\n",
    "for i in range(5, 0, -1):\n",
    "    for k in range(5 - i):\n",
    "        print(\" \", end=\"\")\n",
    "    for j in range(0, i):\n",
    "        print(a[j] + \" \", end=\"\")\n",
    "    print()"
   ]
  }
 ],
 "metadata": {
  "kernelspec": {
   "display_name": "base",
   "language": "python",
   "name": "python3"
  },
  "language_info": {
   "codemirror_mode": {
    "name": "ipython",
    "version": 3
   },
   "file_extension": ".py",
   "mimetype": "text/x-python",
   "name": "python",
   "nbconvert_exporter": "python",
   "pygments_lexer": "ipython3",
   "version": "3.11.5"
  }
 },
 "nbformat": 4,
 "nbformat_minor": 2
}
