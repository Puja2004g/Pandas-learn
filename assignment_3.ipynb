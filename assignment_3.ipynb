{
 "cells": [
  {
   "cell_type": "markdown",
   "metadata": {},
   "source": [
    "#1. wap to read a file and display the content and again append in the same file and display\n",
    "\n",
    "#2. single inheritance (department(base class) and enployee(derived class))\n",
    "\n",
    "#3. multiple level inheritance  => university(grand parent class),school (derived from university), student (derived class)\n",
    "\n",
    "#4. multiple inheritance :- father(base class) , mother(base class) , child(derived class):- calculate the total income\n",
    "define suitable method or constructor as well as data members for above three questions"
   ]
  },
  {
   "cell_type": "code",
   "execution_count": 1,
   "metadata": {},
   "outputs": [],
   "source": [
    "#1. wap to read a file and display the content and again append in the same file and display\n",
    "\n",
    "file = open(\"lab.txt\", \"w\")\n",
    "file.write(\"Hello, Good morning\")\n",
    "file.close()"
   ]
  },
  {
   "cell_type": "code",
   "execution_count": 2,
   "metadata": {},
   "outputs": [
    {
     "name": "stdout",
     "output_type": "stream",
     "text": [
      "Hello, Good morning\n"
     ]
    }
   ],
   "source": [
    "file1 = open(\"lab.txt\", \"r\")\n",
    "data = file1.read()\n",
    "file1.close()\n",
    "print(data)"
   ]
  },
  {
   "cell_type": "code",
   "execution_count": null,
   "metadata": {},
   "outputs": [],
   "source": [
    "file2 = open (\"lab.txt\", \"a\")\n",
    "file2.write(\"\\n\")\n",
    "file2.write(\"This is T&T lab assignment\")\n",
    "file2.close()"
   ]
  },
  {
   "cell_type": "code",
   "execution_count": null,
   "metadata": {},
   "outputs": [],
   "source": [
    "file3 = open(\"lab.txt\", \"r\")\n",
    "data = file3.read()\n",
    "file3.close()\n",
    "print(data)"
   ]
  },
  {
   "cell_type": "code",
   "execution_count": null,
   "metadata": {},
   "outputs": [],
   "source": [
    "#2. single inheritance (department(base class) and enployee(derived class))\n",
    "#The self is used to represent the instance of the class. With this keyword, you can access the attributes and methods of the class in python.\n",
    "\n",
    "class department:\n",
    "    def __init__(self):\n",
    "        print(\"This is department class\")\n",
    "\n",
    "    def department_details (self, name, id):\n",
    "        print(\"The name of the department is \", name)\n",
    "        print(\"The department id is \", id)\n",
    "class employee(department):\n",
    "    def __init__(self):\n",
    "        print(\"This is employee class derived from department class\")\n",
    "    def emp_details(self, name, id):\n",
    "        print(\"Name of the employee: \", name)\n",
    "        print(\"Id of the employee: \", id)\n",
    "\n",
    "dept = department()\n",
    "dept.department_details(\"Computer\", \"102\")\n",
    "emp = employee()\n",
    "emp.department_details(\"Finance\", 101)\n",
    "emp.emp_details(\"Puja\", 31)"
   ]
  },
  {
   "cell_type": "code",
   "execution_count": null,
   "metadata": {},
   "outputs": [],
   "source": [
    "#3. multiple level inheritance  => university(grand parent class),school (derived from university), student (derived class)\n",
    "\n",
    "class university:\n",
    "    def __init__(self):\n",
    "        print(\"\\nuniversity details:-\")\n",
    "        print(\"This is university class\")\n",
    "    def name_univ(self,name):\n",
    "        print(\"Name of the university: \", name)\n",
    "class school(university):\n",
    "    def __init__(self):\n",
    "        print(\"\\nschool details:-\")\n",
    "        print(\"This is school class derived from univeristy class\")\n",
    "    def name_sch(self, name):\n",
    "        print(\"Name of school: \", name)\n",
    "class student(school):\n",
    "    def __init__(self):\n",
    "        print(\"\\nstudent details:-\")\n",
    "        print(\"This is student class derived from university and school class\")\n",
    "    def details_stud(self,name, roll):\n",
    "        print(\"Name of student: \", name)\n",
    "        print(\"Roll of student: \", roll)\n",
    "\n",
    "#university\n",
    "univ = university()\n",
    "univ.name_univ(\"KIIT university\")\n",
    "\n",
    "\n",
    "#school\n",
    "sch = school()\n",
    "sch.name_univ(\"KIIT university\")\n",
    "sch.name_sch(\"School of electronics\")\n",
    "\n",
    "\n",
    "#student\n",
    "stud = student()\n",
    "stud.name_univ(\"Kiit University\")\n",
    "stud.name_sch(\"School of electronics\")\n",
    "stud.details_stud(\"Puja\", \"31\")"
   ]
  },
  {
   "cell_type": "code",
   "execution_count": null,
   "metadata": {},
   "outputs": [],
   "source": [
    "#4. multiple inheritance :- father(base class) , mother(base class) , child(derived class):- calculate the total income\n",
    "\n",
    "\n",
    "class father:\n",
    "    n = 0\n",
    "    def __init__(self):\n",
    "        print(\"\\nFather details:-\")\n",
    "        print(\"This is father class\")\n",
    "    def income_father(self, n):\n",
    "        self.n = n\n",
    "        print(\"Income of father: \", n)\n",
    "class mother:\n",
    "    inc = 0\n",
    "    def __init__(self):\n",
    "        print(\"\\nMother details:-\")\n",
    "        print(\"This is mother class\")\n",
    "    def income_mother(self, inc):\n",
    "        self.inc = inc\n",
    "        print(\"Income of mother: \", inc)\n",
    "\n",
    "class child(father, mother):\n",
    "    def __init__(self):\n",
    "        super().__init__()\n",
    "        super().__init__()\n",
    "        print(\"\\nChild details:-\")\n",
    "        print(\"This is child class\")\n",
    "    def total_income(self):\n",
    "        print(\"Total income: \", self.n+self.inc)\n",
    "\n",
    "father_obj = father()\n",
    "mother_obj = mother()\n",
    "child_obj = child()\n",
    "\n",
    "# Set income for father and mother\n",
    "father_obj.income_father(50000)\n",
    "mother_obj.income_mother(40000)\n",
    "\n",
    "# Calculate and print total income\n",
    "child_obj.total_income()"
   ]
  },
  {
   "cell_type": "code",
   "execution_count": null,
   "metadata": {},
   "outputs": [],
   "source": [
    "class father:\n",
    "    def __init__(self):\n",
    "        print(\"This is father class\")\n",
    "\n",
    "    def income_father(self, income):\n",
    "        print(\"Income of father:\", income)\n",
    "        return income  # Return the income value\n",
    "\n",
    "class mother:\n",
    "    def __init__(self):\n",
    "        print(\"This is mother class\")\n",
    "\n",
    "    def income_mother(self, income):\n",
    "        print(\"Income of mother:\", income)\n",
    "        return income  # Return the income value\n",
    "\n",
    "class child(father, mother):\n",
    "    def __init__(self):\n",
    "        super().__init__()\n",
    "        print(\"This is child class\")\n",
    "\n",
    "    def total_income(self):\n",
    "        father_income = self.income_father(10000)\n",
    "        mother_income = self.income_mother(20000)\n",
    "        total_income = father_income + mother_income\n",
    "        print(\"Total income:\", total_income)\n",
    "f = father()\n",
    "m = mother()\n",
    "ch = child()\n",
    "ch.total_income()\n"
   ]
  }
 ],
 "metadata": {
  "kernelspec": {
   "display_name": "base",
   "language": "python",
   "name": "python3"
  },
  "language_info": {
   "codemirror_mode": {
    "name": "ipython",
    "version": 3
   },
   "file_extension": ".py",
   "mimetype": "text/x-python",
   "name": "python",
   "nbconvert_exporter": "python",
   "pygments_lexer": "ipython3",
   "version": "3.11.5"
  }
 },
 "nbformat": 4,
 "nbformat_minor": 2
}
