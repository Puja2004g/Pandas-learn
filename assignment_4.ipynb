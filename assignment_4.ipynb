{
 "cells": [
  {
   "cell_type": "code",
   "execution_count": 1,
   "metadata": {},
   "outputs": [
    {
     "name": "stdout",
     "output_type": "stream",
     "text": [
      "Implemented succesfully\n"
     ]
    }
   ],
   "source": [
    "class shoppingCart:\n",
    "    def __init__(self):\n",
    "        self.product = {}  # product information\n",
    "\n",
    "    def add_product(self, product_id, p_name, p_quantity, p_price):\n",
    "        add = {}\n",
    "        if product_id not in self.product:\n",
    "            add = {\"name\": p_name, \"available_quantity\": p_quantity, \"price\": p_price}\n",
    "            self.product[product_id] = add\n",
    "        else:\n",
    "            self.product[product_id][\"available_quantity\"] += p_quantity\n",
    "    \n",
    "    def remove_product(self, product_id, quantity):\n",
    "        if product_id in self.product:\n",
    "            self.product[product_id][\"available_quantity\"] -= quantity\n",
    "        elif self.product[product_id][\"available_quantity\"] <= quantity:\n",
    "            del self.product[product_id]            \n",
    "    \n",
    "    def viewProduct(self, product_id):\n",
    "        if product_id in self.product:\n",
    "            print(self.product[product_id])\n",
    "        else:\n",
    "            print(\"Not available\")\n",
    "    \n",
    "    def viewAll(self):\n",
    "       for product_id, details in self.product.items():\n",
    "            print(f\"Product ID: {product_id}\")\n",
    "            for key, value in details.items():\n",
    "                print(f\"{key}: {value}\")\n",
    "            print()\n",
    "    \n",
    "    class customerCart:\n",
    "        def __init__(self, products):\n",
    "            self.cart = {} \n",
    "            self.products = products\n",
    "        \n",
    "        def addItem(self, product_id, quantity):\n",
    "            if product_id not in self.cart:\n",
    "                add = {\"required quantity\" : quantity}\n",
    "                self.cart[product_id] = add\n",
    "            else:\n",
    "                self.cart[product_id]['available quantity'] += quantity\n",
    "        \n",
    "        def viewCart(self):\n",
    "            for product_id, details in self.cart.items():\n",
    "                print(f\"Product ID: {product_id}\")\n",
    "                for key, value in details.items():\n",
    "                    print(f\"{key}: {value}\")\n",
    "                print()\n",
    "        \n",
    "        def removeItem(self, product_id, quantity):\n",
    "            if product_id in self.cart:\n",
    "                self.cart[product_id][\"required quantity\"] -= quantity\n",
    "            elif self.cart[product_id][\"required quantity\"] <= quantity:\n",
    "                del self.cart[product_id]   \n",
    "        \n",
    "        def totalAmount(self):\n",
    "                total_cost = 0\n",
    "                for product_id, details in self.cart.items():\n",
    "                    product = self.products.product.get(product_id)\n",
    "                    if product:\n",
    "                        total_cost += product['price'] * details['required quantity']\n",
    "                return total_cost\n",
    "\n",
    "new = shoppingCart()\n",
    "print(\"Implemented succesfully\")"
   ]
  },
  {
   "cell_type": "code",
   "execution_count": 2,
   "metadata": {},
   "outputs": [],
   "source": [
    "new.add_product(1,\"Britania cake\", 20, 20)\n",
    "new.add_product(2, \"Peanut butter\", 10, 50)\n",
    "new.add_product(3,\"Coca cola\", 20, 20)\n",
    "new.add_product(4,\"Pepsi\", 20, 20)\n",
    "new.add_product(5, \"Butter scoth\", 20, 45)"
   ]
  },
  {
   "cell_type": "code",
   "execution_count": 3,
   "metadata": {},
   "outputs": [
    {
     "name": "stdout",
     "output_type": "stream",
     "text": [
      "Product ID: 1\n",
      "name: Britania cake\n",
      "available_quantity: 20\n",
      "price: 20\n",
      "\n",
      "Product ID: 2\n",
      "name: Peanut butter\n",
      "available_quantity: 10\n",
      "price: 50\n",
      "\n",
      "Product ID: 3\n",
      "name: Coca cola\n",
      "available_quantity: 20\n",
      "price: 20\n",
      "\n",
      "Product ID: 4\n",
      "name: Pepsi\n",
      "available_quantity: 20\n",
      "price: 20\n",
      "\n",
      "Product ID: 5\n",
      "name: Butter scoth\n",
      "available_quantity: 20\n",
      "price: 45\n",
      "\n"
     ]
    }
   ],
   "source": [
    "new.viewAll()"
   ]
  },
  {
   "cell_type": "code",
   "execution_count": 4,
   "metadata": {},
   "outputs": [],
   "source": [
    "user = shoppingCart.customerCart(new)\n",
    "user.addItem(1,2)\n",
    "user.addItem(2,5)\n",
    "user.addItem(3,1)"
   ]
  },
  {
   "cell_type": "code",
   "execution_count": 5,
   "metadata": {},
   "outputs": [
    {
     "name": "stdout",
     "output_type": "stream",
     "text": [
      "Product ID: 1\n",
      "required quantity: 2\n",
      "\n",
      "Product ID: 2\n",
      "required quantity: 5\n",
      "\n",
      "Product ID: 3\n",
      "required quantity: 1\n",
      "\n"
     ]
    }
   ],
   "source": [
    "user.viewCart()"
   ]
  },
  {
   "cell_type": "code",
   "execution_count": 6,
   "metadata": {},
   "outputs": [],
   "source": [
    "user.removeItem(1,1)"
   ]
  },
  {
   "cell_type": "code",
   "execution_count": 7,
   "metadata": {},
   "outputs": [
    {
     "name": "stdout",
     "output_type": "stream",
     "text": [
      "Product ID: 1\n",
      "required quantity: 1\n",
      "\n",
      "Product ID: 2\n",
      "required quantity: 5\n",
      "\n",
      "Product ID: 3\n",
      "required quantity: 1\n",
      "\n"
     ]
    }
   ],
   "source": [
    "user.viewCart()"
   ]
  },
  {
   "cell_type": "code",
   "execution_count": 8,
   "metadata": {},
   "outputs": [
    {
     "name": "stdout",
     "output_type": "stream",
     "text": [
      "Final amount to pay:  290\n"
     ]
    }
   ],
   "source": [
    "cost = user.totalAmount()\n",
    "print(\"Final amount to pay: \" , cost)"
   ]
  }
 ],
 "metadata": {
  "kernelspec": {
   "display_name": "base",
   "language": "python",
   "name": "python3"
  },
  "language_info": {
   "codemirror_mode": {
    "name": "ipython",
    "version": 3
   },
   "file_extension": ".py",
   "mimetype": "text/x-python",
   "name": "python",
   "nbconvert_exporter": "python",
   "pygments_lexer": "ipython3",
   "version": "3.11.5"
  }
 },
 "nbformat": 4,
 "nbformat_minor": 2
}
