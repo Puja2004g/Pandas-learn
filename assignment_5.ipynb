{
 "cells": [
  {
   "cell_type": "markdown",
   "metadata": {},
   "source": [
    "1. Create NumPy arrays with different methods (lists, zeros, ones, arange).\n",
    "2. Perform mathematical operations on NumPy arrays (addition, subtraction, multiplication,\n",
    "division).\n",
    "3. Practice indexing and slicing NumPy arrays.\n",
    "4. Use NumPy functions for basic statistical analysis like mean,median and mode.\n",
    "5. Experiment with reshaping and transposing NumPy arrays"
   ]
  },
  {
   "cell_type": "code",
   "execution_count": 2,
   "metadata": {},
   "outputs": [],
   "source": [
    "import numpy as np"
   ]
  },
  {
   "cell_type": "code",
   "execution_count": 3,
   "metadata": {},
   "outputs": [
    {
     "name": "stdout",
     "output_type": "stream",
     "text": [
      "[2 4 5 6 7 8 9]\n",
      "[1 2 3 4 5]\n",
      "[0 0 0 0 0 0 0 0 0 0]\n",
      "[1 1 1 1 1]\n",
      "[5 6 7 8 9]\n"
     ]
    }
   ],
   "source": [
    "#create numpy with different methods (list,zeros,ones,arange)\n",
    "\n",
    "#list\n",
    "l1 = [2,4,5,6,7,8,9]\n",
    "n1 = np.array(l1)\n",
    "print(n1)\n",
    "\n",
    "#tuple\n",
    "t1 = (1,2,3,4,5)\n",
    "n3 = np.array(t1)\n",
    "print(n3)\n",
    "\n",
    "#zeros\n",
    "z1 = np.zeros(10, int)\n",
    "print(z1)\n",
    "\n",
    "#ones\n",
    "z2 = np.ones(5, int)\n",
    "print(z2)\n",
    "\n",
    "#arange\n",
    "z3 = np.arange(5,10)\n",
    "print(z3)"
   ]
  },
  {
   "cell_type": "code",
   "execution_count": 4,
   "metadata": {},
   "outputs": [
    {
     "name": "stdout",
     "output_type": "stream",
     "text": [
      "[10 11 12 13 14 15 16 17 18 19 20]\n",
      "[20 21 22 23 24 25 26 27 28 29 30]\n",
      "Addition of two arrays: \n",
      "[30 32 34 36 38 40 42 44 46 48 50]\n",
      "Subtraction of two arrays:\n",
      "[-10 -10 -10 -10 -10 -10 -10 -10 -10 -10 -10]\n",
      "Multiplication of two arrays: \n",
      "[200 231 264 299 336 375 416 459 504 551 600]\n",
      "Division of two arrays:\n",
      "[0.5        0.52380952 0.54545455 0.56521739 0.58333333 0.6\n",
      " 0.61538462 0.62962963 0.64285714 0.65517241 0.66666667]\n"
     ]
    }
   ],
   "source": [
    "#perform matthematical operations on numpy arrays\n",
    "\n",
    "b1 = np.arange(10,21)\n",
    "b2 = np.arange(20,31)\n",
    "print(b1)\n",
    "print(b2)\n",
    "\n",
    "#addition\n",
    "print(\"Addition of two arrays: \")\n",
    "sum = b1 + b2\n",
    "print(sum)\n",
    "\n",
    "#subtraction\n",
    "print(\"Subtraction of two arrays:\")\n",
    "sub = b1-b2\n",
    "print(sub)\n",
    "\n",
    "#multiplication\n",
    "print(\"Multiplication of two arrays: \")\n",
    "mul = b1*b2\n",
    "print(mul)\n",
    "\n",
    "#division\n",
    "print(\"Division of two arrays:\")\n",
    "div = b1/b2\n",
    "print(div)"
   ]
  },
  {
   "cell_type": "code",
   "execution_count": 5,
   "metadata": {},
   "outputs": [
    {
     "name": "stdout",
     "output_type": "stream",
     "text": [
      "12\n",
      "[12 13 14 15]\n",
      "[10 11 12 13 14 15 16 17 18 19 20]\n",
      "[15 17 19]\n"
     ]
    }
   ],
   "source": [
    "#practice indexing and slicing numpy arrays\n",
    "\n",
    "#indexing\n",
    "idx = b1[2]\n",
    "print(idx)\n",
    "\n",
    "\n",
    "\n",
    "#slicing\n",
    "slc1 = b1[2:6]\n",
    "slc2 = b1[:]\n",
    "slc3 = b1[-6:-1:2]\n",
    "\n",
    "print(slc1)\n",
    "print(slc2)\n",
    "print(slc3)"
   ]
  },
  {
   "cell_type": "code",
   "execution_count": 12,
   "metadata": {},
   "outputs": [
    {
     "name": "stdout",
     "output_type": "stream",
     "text": [
      "[1 2 3 4 5]\n",
      "[[1 2 3]\n",
      " [4 5 6]]\n",
      "[[[ 1  2  3]\n",
      "  [ 4  5  6]\n",
      "  [ 7  8  9]\n",
      "  [10 11 12]]]\n",
      "3.5\n",
      "[2.5 3.5 4.5]\n",
      "[2. 5.]\n",
      "Median of a1  3.0\n",
      "Median of a2  3.5\n",
      "Median of a3  6.5\n",
      "Mode of a1  ModeResult(mode=1, count=1)\n",
      "Mode of a2  ModeResult(mode=array([1, 2, 3], dtype=int64), count=array([1, 1, 1], dtype=int64))\n",
      "Mode of a3  ModeResult(mode=array([[ 1,  2,  3],\n",
      "       [ 4,  5,  6],\n",
      "       [ 7,  8,  9],\n",
      "       [10, 11, 12]], dtype=int64), count=array([[1, 1, 1],\n",
      "       [1, 1, 1],\n",
      "       [1, 1, 1],\n",
      "       [1, 1, 1]], dtype=int64))\n"
     ]
    }
   ],
   "source": [
    "#use numpy functions for basic statistical analysis like mean,median,mode\n",
    "\n",
    "\n",
    "# 1D array\n",
    "a1 = np.array([1,2,3,4,5])\n",
    "print(a1)\n",
    "\n",
    "# 2D array\n",
    "a2 = np.array([[1,2,3],[4,5,6]])\n",
    "print(a2)\n",
    "\n",
    "# 3D array\n",
    "a3 = np.array([[[1,2,3],[4,5,6],[7,8,9],[10,11,12]]])\n",
    "print(a3)\n",
    "\n",
    "#mean\n",
    "print(np.mean(a2))\n",
    "print(np.mean(a2,axis=0))\n",
    "print(np.mean(a2,axis=1))\n",
    "\n",
    "\n",
    "#median\n",
    "print(\"Median of a1 \",np.median(a1))\n",
    "print(\"Median of a2 \", np.median(a2))\n",
    "print(\"Median of a3 \", np.median(a3))\n",
    "\n",
    "\n",
    "#mode\n",
    "from scipy import stats as st\n",
    "print(\"Mode of a1 \",st.mode(a1))\n",
    "print(\"Mode of a2 \",st.mode(a2))\n",
    "print(\"Mode of a3 \",st.mode(a3))\n"
   ]
  },
  {
   "cell_type": "code",
   "execution_count": 9,
   "metadata": {},
   "outputs": [
    {
     "name": "stdout",
     "output_type": "stream",
     "text": [
      "Reshaping a2\n",
      "[[ 1  2  3  4  5]\n",
      " [ 6  7  8  9 10]]\n",
      "Transposing a2\n",
      "[ 1  2  3  4  5  6  7  8  9 10]\n"
     ]
    }
   ],
   "source": [
    "# experiment eith reshaping and transposing numpy arrays\n",
    "a2 = np.array([1,2,3,4,5,6,7,8,9,10])\n",
    "\n",
    "#reshaping\n",
    "print(\"Reshaping a2\")\n",
    "res = a2.reshape(2,5)\n",
    "print(res)\n",
    "\n",
    "#transposing\n",
    "print(\"Transposing a2\")\n",
    "trans = a2.transpose()\n",
    "print(trans)\n"
   ]
  }
 ],
 "metadata": {
  "kernelspec": {
   "display_name": "base",
   "language": "python",
   "name": "python3"
  },
  "language_info": {
   "codemirror_mode": {
    "name": "ipython",
    "version": 3
   },
   "file_extension": ".py",
   "mimetype": "text/x-python",
   "name": "python",
   "nbconvert_exporter": "python",
   "pygments_lexer": "ipython3",
   "version": "3.11.5"
  }
 },
 "nbformat": 4,
 "nbformat_minor": 2
}
