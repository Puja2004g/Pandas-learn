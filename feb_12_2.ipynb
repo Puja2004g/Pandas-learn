{
 "cells": [
  {
   "cell_type": "code",
   "execution_count": null,
   "metadata": {},
   "outputs": [],
   "source": [
    "#1. wap to read a file and display the content and again append in the same file and display\n",
    "\n",
    "#2. single inheritance (department(base class) and enployee(derived class))\n",
    "\n",
    "#3. multiple level inheritance  => university(grand parent class),school (derived from university), student (derived class)\n",
    "\n",
    "#4. multiple inheritance :- father(base class) , mother(base class) , child(derived class):- calculate the total income\n",
    "\n",
    "# define suitable method or constructor as well as data members for above three questions"
   ]
  },
  {
   "cell_type": "code",
   "execution_count": 1,
   "metadata": {},
   "outputs": [
    {
     "name": "stdout",
     "output_type": "stream",
     "text": [
      "Hello, Good morning\n",
      "Hello, Good morning\n",
      "This is T&T lab assignment\n"
     ]
    }
   ],
   "source": [
    "#1. wap to read a file and display the content and again append in the same file and display\n",
    "\n",
    "file = open(\"lab.txt\", \"w\")\n",
    "file.write(\"Hello, Good morning\")\n",
    "file.close()\n",
    "\n",
    "file1 = open(\"lab.txt\", \"r\")\n",
    "data = file1.read()\n",
    "file1.close()\n",
    "print(data)\n",
    "\n",
    "file2 = open (\"lab.txt\", \"a\")\n",
    "file2.write(\"\\n\")\n",
    "file2.write(\"This is T&T lab assignment\")\n",
    "file2.close()\n",
    "\n",
    "file3 = open(\"lab.txt\", \"r\")\n",
    "data = file3.read()\n",
    "file3.close()\n",
    "print(data)\n"
   ]
  },
  {
   "cell_type": "code",
   "execution_count": 2,
   "metadata": {},
   "outputs": [
    {
     "name": "stdout",
     "output_type": "stream",
     "text": [
      "This is department class\n",
      "The name of the department is  Computer\n",
      "The department id is  102\n",
      "This is employee class derived from department class\n",
      "The name of the department is  Finance\n",
      "The department id is  101\n",
      "Name of the employee:  Puja\n",
      "Id of the employee:  31\n"
     ]
    }
   ],
   "source": [
    "#2. single inheritance (department(base class) and enployee(derived class))\n",
    "\n",
    "class department:\n",
    "    def __init__(self):\n",
    "        print(\"This is department class\")\n",
    "        \n",
    "    def department_details (self, name, id):\n",
    "        print(\"The name of the department is \", name)\n",
    "        print(\"The department id is \", id)\n",
    "class employee(department):\n",
    "    def __init__(self):\n",
    "        print(\"This is employee class derived from department class\")\n",
    "    def emp_details(self, name, id):\n",
    "        print(\"Name of the employee: \", name)\n",
    "        print(\"Id of the employee: \", id)\n",
    "\n",
    "dept = department()\n",
    "dept.department_details(\"Computer\", \"102\")\n",
    "emp = employee()\n",
    "emp.department_details(\"Finance\", 101)\n",
    "emp.emp_details(\"Puja\", 31)"
   ]
  },
  {
   "cell_type": "code",
   "execution_count": 4,
   "metadata": {},
   "outputs": [
    {
     "name": "stdout",
     "output_type": "stream",
     "text": [
      "\n",
      "university details:-\n",
      "This is university class\n",
      "Name of the university:  KIIT university\n",
      "\n",
      "school details:-\n",
      "This is school class derived from univeristy class\n",
      "Name of the university:  KIIT university\n",
      "Name of school:  School of electronics\n",
      "\n",
      "student details:-\n",
      "This is student class derived from university and school class\n",
      "Name of the university:  Kiit University\n",
      "Name of school:  School of electronics\n",
      "Name of student:  Puja\n",
      "Roll of student:  31\n"
     ]
    }
   ],
   "source": [
    "#3. multiple level inheritance  => university(grand parent class),school (derived from university), student (derived class)\n",
    "\n",
    "class university:\n",
    "    def __init__(self):\n",
    "        print(\"\\nuniversity details:-\")\n",
    "        print(\"This is university class\")\n",
    "    def name_univ(self,name):\n",
    "        print(\"Name of the university: \", name)\n",
    "class school(university):\n",
    "    def __init__(self):\n",
    "        print(\"\\nschool details:-\")\n",
    "        print(\"This is school class derived from univeristy class\")\n",
    "    def name_sch(self, name):\n",
    "        print(\"Name of school: \", name)\n",
    "class student(school):\n",
    "    def __init__(self):\n",
    "        print(\"\\nstudent details:-\")\n",
    "        print(\"This is student class derived from university and school class\")\n",
    "    def details_stud(self,name, roll):\n",
    "        print(\"Name of student: \", name)\n",
    "        print(\"Roll of student: \", roll)\n",
    "\n",
    "#university\n",
    "univ = university()\n",
    "univ.name_univ(\"KIIT university\")\n",
    "\n",
    "\n",
    "#school\n",
    "sch = school()\n",
    "sch.name_univ(\"KIIT university\")\n",
    "sch.name_sch(\"School of electronics\")\n",
    "\n",
    "\n",
    "#student\n",
    "stud = student()\n",
    "stud.name_univ(\"Kiit University\")\n",
    "stud.name_sch(\"School of electronics\")\n",
    "stud.details_stud(\"Puja\", \"31\")"
   ]
  },
  {
   "cell_type": "code",
   "execution_count": 3,
   "metadata": {},
   "outputs": [
    {
     "name": "stdout",
     "output_type": "stream",
     "text": [
      "\n",
      "Father details:-\n",
      "This is father class\n",
      "Income of father:  10000\n",
      "\n",
      "Mother details:-\n",
      "This is mother class\n",
      "\n",
      "Child details:-\n",
      "This is child class\n"
     ]
    }
   ],
   "source": [
    "#4. multiple inheritance :- father(base class) , mother(base class) , child(derived class):- calculate the total income\n",
    "\n",
    "\n",
    "class father:\n",
    "    n = 0\n",
    "    def __init__(self):\n",
    "        print(\"\\nFather details:-\")\n",
    "        print(\"This is father class\")\n",
    "    def income_father(self, n):\n",
    "        self.n = n\n",
    "        print(\"Income of father: \", n)\n",
    "class mother:\n",
    "    inc = 0\n",
    "    def __init__(self):\n",
    "        print(\"\\nMother details:-\")\n",
    "        print(\"This is mother class\")\n",
    "    def income_mother(self, inc):\n",
    "        self.inc = inc\n",
    "        print(\"Income of mother: \", inc)\n",
    "        \n",
    "class child(father, mother):\n",
    "    def __init__(self):\n",
    "        print(\"\\nChild details:-\")\n",
    "        print(\"This is child class\")\n",
    "    def total_income(self):\n",
    "        print(\"Total income: \", n+inc)\n",
    "\n",
    "f = father()\n",
    "f.income_father(10000)\n",
    "\n",
    "m = mother()\n",
    "ch = child()"
   ]
  }
 ],
 "metadata": {
  "kernelspec": {
   "display_name": "base",
   "language": "python",
   "name": "python3"
  },
  "language_info": {
   "codemirror_mode": {
    "name": "ipython",
    "version": 3
   },
   "file_extension": ".py",
   "mimetype": "text/x-python",
   "name": "python",
   "nbconvert_exporter": "python",
   "pygments_lexer": "ipython3",
   "version": "3.11.5"
  }
 },
 "nbformat": 4,
 "nbformat_minor": 2
}
