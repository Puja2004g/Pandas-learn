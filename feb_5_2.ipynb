{
 "cells": [
  {
   "cell_type": "code",
   "execution_count": 1,
   "metadata": {},
   "outputs": [],
   "source": [
    "#wap to enter a number and check that number is even or odd\n",
    "#wap to enter a year and that is leap year or not\n",
    "#wap to input mark of 5 different subjects and display the grade\n",
    "#wap to display all odd number from 50 to 100\n",
    "#wap to input a number and count the total number of digits  r.g. 2004- 4 digits\n",
    "#wap to input a number and check that number is prime or not\n",
    "#wap to enter a number and that number is strong or not \n",
    "#wap to enter a number and that number is armstrong or not\n",
    "#input a number and check if it is perfect or not\n",
    "#wap to enter a number and check that number is exist in fibbonacci series or not"
   ]
  },
  {
   "cell_type": "code",
   "execution_count": 2,
   "metadata": {},
   "outputs": [
    {
     "name": "stdout",
     "output_type": "stream",
     "text": [
      "odd\n"
     ]
    }
   ],
   "source": [
    "#wap to enter a number and check that number is even or odd\n",
    "def even_odd(num):\n",
    "    if num%2==0:\n",
    "        return \"even\"\n",
    "    else:\n",
    "        return \"odd\"\n",
    "    \n",
    "number= 23\n",
    "print(even_odd(number))"
   ]
  },
  {
   "cell_type": "code",
   "execution_count": 1,
   "metadata": {},
   "outputs": [
    {
     "name": "stdout",
     "output_type": "stream",
     "text": [
      "leap year\n"
     ]
    }
   ],
   "source": [
    "#wap to enter a year and that is leap year or not\n",
    "def leap(year):\n",
    "    if year%4==0 and year%100 != 0:\n",
    "        return \"leap year\"\n",
    "    else:\n",
    "        return \"Not leap year\"\n",
    "\n",
    "# year = int(input(\"Enter year: \"))\n",
    "year = 2004\n",
    "print(leap(year))"
   ]
  },
  {
   "cell_type": "code",
   "execution_count": 1,
   "metadata": {},
   "outputs": [
    {
     "name": "stdout",
     "output_type": "stream",
     "text": [
      "{78: 'A', 59: 'C', 98: 'O', 88: 'E', 40: 'D'}\n"
     ]
    }
   ],
   "source": [
    "#wap to input mark of 5 different subjects and display the grade\n",
    "def grade_checker(List):\n",
    "    dict = {}\n",
    "    for i in List:\n",
    "        if i>90 and i<=100:\n",
    "            dict[i] = \"O\"\n",
    "        elif i>80 and i<=90:\n",
    "            dict[i] = \"E\"\n",
    "        elif i>70 and i<=80:\n",
    "            dict[i] = \"A\"\n",
    "        elif i>60 and i<=70:\n",
    "            dict[i] = \"B\"\n",
    "        elif i>50 and i<=60:\n",
    "            dict[i] = \"C\"\n",
    "        elif i>=40 and i<=50:\n",
    "            dict[i] = \"D\"\n",
    "        else:\n",
    "            dict[i] = \"F\"\n",
    "    return dict\n",
    "\n",
    "List = [78, 59, 98, 88, 40]\n",
    "\n",
    "print(grade_checker(List))"
   ]
  },
  {
   "cell_type": "code",
   "execution_count": 4,
   "metadata": {},
   "outputs": [
    {
     "name": "stdout",
     "output_type": "stream",
     "text": [
      "[51, 53, 55, 57, 59, 61, 63, 65, 67, 69, 71, 73, 75, 77, 79, 81, 83, 85, 87, 89, 91, 93, 95, 97, 99]\n"
     ]
    }
   ],
   "source": [
    "#wap to display all odd number from 50 to 100\n",
    "List = []\n",
    "for i in range(50 , 100):\n",
    "    if i%2!=0:\n",
    "        # print(i)\n",
    "        List.append(i)\n",
    "print(List)"
   ]
  },
  {
   "cell_type": "code",
   "execution_count": null,
   "metadata": {},
   "outputs": [],
   "source": [
    "#wap to input a number and count the total number of digits  r.g. 2004- 4 digits\n",
    "def count_digits(num):\n",
    "    count = 0\n",
    "    while(num>0):\n",
    "        count += 1\n",
    "        num = num//10\n",
    "    return count\n",
    "\n",
    "num = int(input(\"Enter a number: \"))\n",
    "print(count_digits(num))    "
   ]
  },
  {
   "cell_type": "code",
   "execution_count": 2,
   "metadata": {},
   "outputs": [
    {
     "name": "stdout",
     "output_type": "stream",
     "text": [
      "True\n"
     ]
    }
   ],
   "source": [
    "#wap to input a number and check that number is prime or not\n",
    "def check_prime(num):\n",
    "    if num <= 1:\n",
    "        return False \n",
    "\n",
    "    for i in range(2, int(num**0.5) + 1):  \n",
    "        if num % i == 0:\n",
    "            return False\n",
    "\n",
    "    return True\n",
    "num = int(input(\"Enter a number: \"))\n",
    "print(check_prime(num))"
   ]
  },
  {
   "cell_type": "code",
   "execution_count": 8,
   "metadata": {},
   "outputs": [
    {
     "name": "stdout",
     "output_type": "stream",
     "text": [
      "True\n"
     ]
    }
   ],
   "source": [
    "#wap to enter a number and that number is strong or not \n",
    "def factorial(n):\n",
    "  if n == 0:\n",
    "    return 1\n",
    "\n",
    "  fact = 1\n",
    "  for i in range(1, n + 1):\n",
    "    fact *= i\n",
    "\n",
    "  return fact\n",
    "\n",
    "def strong_check(num):\n",
    "  number = num \n",
    "  fact = 0\n",
    "\n",
    "  while num > 0:\n",
    "    digit = num % 10\n",
    "    fact += factorial(digit)\n",
    "    num //= 10\n",
    "\n",
    "  return fact == number  \n",
    "\n",
    "# num = int(input(\"Enter a number: \"))\n",
    "num = 145\n",
    "print(strong_check(num))\n",
    "        "
   ]
  },
  {
   "cell_type": "code",
   "execution_count": null,
   "metadata": {},
   "outputs": [
    {
     "name": "stdout",
     "output_type": "stream",
     "text": [
      "5 is an Armstrong number.\n"
     ]
    }
   ],
   "source": [
    "def is_armstrong_number(num):\n",
    "    sum_of_powers = 0\n",
    "    original_num = num\n",
    "    power = len(str(num))\n",
    "\n",
    "    while num > 0:\n",
    "        digit = num % 10\n",
    "        sum_of_powers += digit ** power\n",
    "        num //= 10\n",
    "\n",
    "    return sum_of_powers == original_num\n",
    "\n",
    "# Get input from the user\n",
    "num = int(input(\"Enter a number: \"))\n",
    "\n",
    "if is_armstrong_number(num):\n",
    "    print(num, \"is an Armstrong number.\")\n",
    "else:\n",
    "    print(num, \"is not an Armstrong number.\")"
   ]
  },
  {
   "cell_type": "code",
   "execution_count": 5,
   "metadata": {},
   "outputs": [
    {
     "name": "stdout",
     "output_type": "stream",
     "text": [
      "True\n",
      "False\n"
     ]
    }
   ],
   "source": [
    "#input a number and check if it is perfect or not\n",
    "def perfect(number):\n",
    "    original_num = number\n",
    "    List = []\n",
    "    sum = 0\n",
    "    for i in range(1, number):\n",
    "        if number%i==0:\n",
    "            List.append(i)\n",
    "    \n",
    "    for i in List:\n",
    "        sum += i\n",
    "    \n",
    "    if original_num == sum:\n",
    "        return True\n",
    "    else:\n",
    "        return False\n",
    "    \n",
    "print(perfect(6))\n",
    "print(perfect(45))"
   ]
  },
  {
   "cell_type": "code",
   "execution_count": 9,
   "metadata": {},
   "outputs": [
    {
     "name": "stdout",
     "output_type": "stream",
     "text": [
      "True\n"
     ]
    }
   ],
   "source": [
    "def fibbonacci(n):\n",
    "    a = 0\n",
    "    b = 1\n",
    "    c = a+b\n",
    "    if n==a or n==b:\n",
    "        return True\n",
    "    while c<=n:\n",
    "        if c==n:\n",
    "            return True\n",
    "        a=b\n",
    "        b=c\n",
    "        c=a+b\n",
    "    return False\n",
    "\n",
    "print(fibbonacci(5))"
   ]
  }
 ],
 "metadata": {
  "kernelspec": {
   "display_name": "base",
   "language": "python",
   "name": "python3"
  },
  "language_info": {
   "codemirror_mode": {
    "name": "ipython",
    "version": 3
   },
   "file_extension": ".py",
   "mimetype": "text/x-python",
   "name": "python",
   "nbconvert_exporter": "python",
   "pygments_lexer": "ipython3",
   "version": "3.11.5"
  }
 },
 "nbformat": 4,
 "nbformat_minor": 2
}
